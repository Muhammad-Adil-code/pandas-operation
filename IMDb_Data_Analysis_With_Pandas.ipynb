{
 "cells": [
  {
   "cell_type": "markdown",
   "id": "d9e94e60",
   "metadata": {},
   "source": [
    "# 🎬 IMDb Dataset Analysis with Pandas"
   ]
  },
  {
   "cell_type": "markdown",
   "id": "ef8bb2ab",
   "metadata": {},
   "source": [
    "This notebook demonstrates how to work with the IMDb dataset using `pandas` and `numpy`. You'll learn how to:\n",
    "\n",
    "- Load data\n",
    "- Index, slice and filter rows/columns\n",
    "- Apply custom functions\n",
    "- Handle null values\n",
    "- Sort and modify data"
   ]
  },
  {
   "cell_type": "markdown",
   "id": "582de711",
   "metadata": {},
   "source": [
    "## 📥 Step 1: Import Libraries"
   ]
  },
  {
   "cell_type": "markdown",
   "id": "6271f49d",
   "metadata": {},
   "source": [
    "We start by importing essential libraries for data handling and analysis."
   ]
  },
  {
   "cell_type": "markdown",
   "id": "6307c0fd",
   "metadata": {},
   "source": [
    "## 📂 Step 2: Load the IMDb Dataset"
   ]
  },
  {
   "cell_type": "markdown",
   "id": "57c0bf1a",
   "metadata": {},
   "source": [
    "Read the CSV file using `pd.read_csv` to create a DataFrame."
   ]
  },
  {
   "cell_type": "markdown",
   "id": "cb39148e",
   "metadata": {},
   "source": [
    "## 📄 Step 3: Series and DataFrame Operations"
   ]
  },
  {
   "cell_type": "markdown",
   "id": "7fd55e1b",
   "metadata": {},
   "source": [
    "Explore how to access individual columns and slices of the dataset."
   ]
  },
  {
   "cell_type": "markdown",
   "id": "297d5436",
   "metadata": {},
   "source": [
    "## 🧾 Step 4: Input and Selection"
   ]
  },
  {
   "cell_type": "markdown",
   "id": "1666e005",
   "metadata": {},
   "source": [
    "Use `.head()` and column selection to peek into your dataset."
   ]
  },
  {
   "cell_type": "markdown",
   "id": "1d73598d",
   "metadata": {},
   "source": [
    "## 📌 Step 5: Indexing Rows and Columns"
   ]
  },
  {
   "cell_type": "markdown",
   "id": "a7be83ac",
   "metadata": {},
   "source": [
    "Use `.iloc` for positional indexing and `.loc` for label-based indexing."
   ]
  },
  {
   "cell_type": "markdown",
   "id": "37939c35",
   "metadata": {},
   "source": [
    "## 🔍 Step 6: Conditional Selection"
   ]
  },
  {
   "cell_type": "markdown",
   "id": "bd9abb3b",
   "metadata": {},
   "source": [
    "Filter rows based on conditions like ratings or genre."
   ]
  },
  {
   "cell_type": "markdown",
   "id": "0dde8166",
   "metadata": {},
   "source": [
    "## 🎯 Step 7: Selecting Subsets"
   ]
  },
  {
   "cell_type": "markdown",
   "id": "e8e87c43",
   "metadata": {},
   "source": [
    "Use `.loc` to select specific rows and columns simultaneously."
   ]
  },
  {
   "cell_type": "markdown",
   "id": "52f7b183",
   "metadata": {},
   "source": [
    "## 🧱 Step 8: Setting Index"
   ]
  },
  {
   "cell_type": "markdown",
   "id": "19170965",
   "metadata": {},
   "source": [
    "Change the DataFrame index to a column like `Title` for easier referencing."
   ]
  },
  {
   "cell_type": "markdown",
   "id": "6afe06f8",
   "metadata": {},
   "source": [
    "## ⚙️ Step 9: DataFrame Operations"
   ]
  },
  {
   "cell_type": "markdown",
   "id": "6a9902d8",
   "metadata": {},
   "source": [
    "Perform statistical analysis like mean, std, min, max using `.describe()`."
   ]
  },
  {
   "cell_type": "markdown",
   "id": "eaa85d6b",
   "metadata": {},
   "source": [
    "## 🔢 Step 10: Unique Values and Counts"
   ]
  },
  {
   "cell_type": "markdown",
   "id": "956b6ac2",
   "metadata": {},
   "source": [
    "Check distinct genres and count their frequencies using `.unique()` and `.value_counts()`."
   ]
  },
  {
   "cell_type": "markdown",
   "id": "a5791739",
   "metadata": {},
   "source": [
    "## 🛠️ Step 11: Applying Custom Functions"
   ]
  },
  {
   "cell_type": "markdown",
   "id": "912e3e2f",
   "metadata": {},
   "source": [
    "Create and apply a custom function using `.apply()` to classify ratings."
   ]
  },
  {
   "cell_type": "markdown",
   "id": "49ebbe71",
   "metadata": {},
   "source": [
    "## 🧾 Step 12: Column and Index Names"
   ]
  },
  {
   "cell_type": "markdown",
   "id": "51fe39b5",
   "metadata": {},
   "source": [
    "Get all column names and row indices of the DataFrame."
   ]
  },
  {
   "cell_type": "markdown",
   "id": "ec0afd58",
   "metadata": {},
   "source": [
    "## 🔃 Step 13: Sorting and Ordering"
   ]
  },
  {
   "cell_type": "markdown",
   "id": "c980b6fd",
   "metadata": {},
   "source": [
    "Sort the data by rating in descending order using `.sort_values()`."
   ]
  },
  {
   "cell_type": "markdown",
   "id": "6d7c08cd",
   "metadata": {},
   "source": [
    "## 🧼 Step 14: Null Value Checks"
   ]
  },
  {
   "cell_type": "markdown",
   "id": "558c56a4",
   "metadata": {},
   "source": [
    "Check for missing data using `.isnull().sum()`."
   ]
  },
  {
   "cell_type": "markdown",
   "id": "96ea3aee",
   "metadata": {},
   "source": [
    "## 🔁 Step 15: Value Replacement"
   ]
  },
  {
   "cell_type": "markdown",
   "id": "63736d52",
   "metadata": {},
   "source": [
    "Replace unwanted values like `'N/A'` with more meaningful ones."
   ]
  },
  {
   "cell_type": "markdown",
   "id": "f17a0a4f",
   "metadata": {},
   "source": [
    "## 🗑️ Step 16: Dropping Rows and Columns"
   ]
  },
  {
   "cell_type": "markdown",
   "id": "7f0ff137",
   "metadata": {},
   "source": [
    "Use `.drop()` to remove columns or rows with missing values."
   ]
  },
  {
   "cell_type": "markdown",
   "id": "c5bd2177",
   "metadata": {},
   "source": [
    "---\n",
    "\n",
    "✅ This concludes the tutorial. You can now upload this notebook to GitHub with a professional structure!"
   ]
  },
  {
   "cell_type": "code",
   "execution_count": 1,
   "metadata": {
    "colab": {
     "base_uri": "https://localhost:8080/",
     "height": 293
    },
    "id": "iKj2g4ZKLPq5",
    "outputId": "b5177131-8835-402f-a4ce-fba0996474f2"
   },
   "outputs": [
    {
     "data": {
      "application/vnd.google.colaboratory.intrinsic+json": {
       "summary": "{\n  \"name\": \"data\",\n  \"rows\": 5562,\n  \"fields\": [\n    {\n      \"column\": \"Movie_Title\",\n      \"properties\": {\n        \"dtype\": \"string\",\n        \"num_unique_values\": 5453,\n        \"samples\": [\n          \"The Great Dictator\",\n          \"Old Henry\",\n          \"Pitch Black\"\n        ],\n        \"semantic_type\": \"\",\n        \"description\": \"\"\n      }\n    },\n    {\n      \"column\": \"Year\",\n      \"properties\": {\n        \"dtype\": \"number\",\n        \"std\": 16,\n        \"min\": 1920,\n        \"max\": 2022,\n        \"num_unique_values\": 99,\n        \"samples\": [\n          1979,\n          1982,\n          1927\n        ],\n        \"semantic_type\": \"\",\n        \"description\": \"\"\n      }\n    },\n    {\n      \"column\": \"Director\",\n      \"properties\": {\n        \"dtype\": \"category\",\n        \"num_unique_values\": 2320,\n        \"samples\": [\n          \"Directors:Michael Powell, Emeric Pressburger\",\n          \"\\u00d6mer Faruk Sorak\",\n          \"Directors:Don Hall, Chris Williams\"\n        ],\n        \"semantic_type\": \"\",\n        \"description\": \"\"\n      }\n    },\n    {\n      \"column\": \"Actors\",\n      \"properties\": {\n        \"dtype\": \"string\",\n        \"num_unique_values\": 5511,\n        \"samples\": [\n          \"Milla Jovovich, Iain Glen, Ali Larter, Shawn Roberts\",\n          \"Christian Bale, Joel Edgerton, Ben Kingsley, Sigourney Weaver\",\n          \"Jennifer Aniston, Adriana Barraza, Anna Kendrick, Sam Worthington\"\n        ],\n        \"semantic_type\": \"\",\n        \"description\": \"\"\n      }\n    },\n    {\n      \"column\": \"Rating\",\n      \"properties\": {\n        \"dtype\": \"number\",\n        \"std\": 0.9371332094176064,\n        \"min\": 1.0,\n        \"max\": 9.3,\n        \"num_unique_values\": 74,\n        \"samples\": [\n          8.6,\n          3.6,\n          7.2\n        ],\n        \"semantic_type\": \"\",\n        \"description\": \"\"\n      }\n    },\n    {\n      \"column\": \"Runtime(Mins)\",\n      \"properties\": {\n        \"dtype\": \"number\",\n        \"std\": 21,\n        \"min\": 45,\n        \"max\": 321,\n        \"num_unique_values\": 156,\n        \"samples\": [\n          172,\n          176,\n          94\n        ],\n        \"semantic_type\": \"\",\n        \"description\": \"\"\n      }\n    },\n    {\n      \"column\": \"Censor\",\n      \"properties\": {\n        \"dtype\": \"category\",\n        \"num_unique_values\": 25,\n        \"samples\": [\n          \"PG-13\",\n          \"15+\",\n          \"UA\"\n        ],\n        \"semantic_type\": \"\",\n        \"description\": \"\"\n      }\n    },\n    {\n      \"column\": \"Total_Gross\",\n      \"properties\": {\n        \"dtype\": \"string\",\n        \"num_unique_values\": 3501,\n        \"samples\": [\n          \"$195.04M\",\n          \"$26.81M\",\n          \"$9.28M\"\n        ],\n        \"semantic_type\": \"\",\n        \"description\": \"\"\n      }\n    },\n    {\n      \"column\": \"main_genre\",\n      \"properties\": {\n        \"dtype\": \"category\",\n        \"num_unique_values\": 13,\n        \"samples\": [\n          \"Fantasy\",\n          \"Mystery\",\n          \"Action\"\n        ],\n        \"semantic_type\": \"\",\n        \"description\": \"\"\n      }\n    },\n    {\n      \"column\": \"side_genre\",\n      \"properties\": {\n        \"dtype\": \"category\",\n        \"num_unique_values\": 144,\n        \"samples\": [\n          \" Fantasy,  War\",\n          \" Drama,  Thriller\",\n          \" Family,  Fantasy\"\n        ],\n        \"semantic_type\": \"\",\n        \"description\": \"\"\n      }\n    }\n  ]\n}",
       "type": "dataframe",
       "variable_name": "data"
      },
      "text/html": [
       "\n",
       "  <div id=\"df-f93aa46a-e541-44df-b8b4-61bc3c7be90f\" class=\"colab-df-container\">\n",
       "    <div>\n",
       "<style scoped>\n",
       "    .dataframe tbody tr th:only-of-type {\n",
       "        vertical-align: middle;\n",
       "    }\n",
       "\n",
       "    .dataframe tbody tr th {\n",
       "        vertical-align: top;\n",
       "    }\n",
       "\n",
       "    .dataframe thead th {\n",
       "        text-align: right;\n",
       "    }\n",
       "</style>\n",
       "<table border=\"1\" class=\"dataframe\">\n",
       "  <thead>\n",
       "    <tr style=\"text-align: right;\">\n",
       "      <th></th>\n",
       "      <th>Movie_Title</th>\n",
       "      <th>Year</th>\n",
       "      <th>Director</th>\n",
       "      <th>Actors</th>\n",
       "      <th>Rating</th>\n",
       "      <th>Runtime(Mins)</th>\n",
       "      <th>Censor</th>\n",
       "      <th>Total_Gross</th>\n",
       "      <th>main_genre</th>\n",
       "      <th>side_genre</th>\n",
       "    </tr>\n",
       "  </thead>\n",
       "  <tbody>\n",
       "    <tr>\n",
       "      <th>0</th>\n",
       "      <td>Kantara</td>\n",
       "      <td>2022</td>\n",
       "      <td>Rishab Shetty</td>\n",
       "      <td>Rishab Shetty, Sapthami Gowda, Kishore Kumar G...</td>\n",
       "      <td>9.3</td>\n",
       "      <td>148</td>\n",
       "      <td>UA</td>\n",
       "      <td>Gross Unkown</td>\n",
       "      <td>Action</td>\n",
       "      <td>Adventure,  Drama</td>\n",
       "    </tr>\n",
       "    <tr>\n",
       "      <th>1</th>\n",
       "      <td>The Dark Knight</td>\n",
       "      <td>2008</td>\n",
       "      <td>Christopher Nolan</td>\n",
       "      <td>Christian Bale, Heath Ledger, Aaron Eckhart, M...</td>\n",
       "      <td>9.0</td>\n",
       "      <td>152</td>\n",
       "      <td>UA</td>\n",
       "      <td>$534.86M</td>\n",
       "      <td>Action</td>\n",
       "      <td>Crime,  Drama</td>\n",
       "    </tr>\n",
       "    <tr>\n",
       "      <th>2</th>\n",
       "      <td>The Lord of the Rings: The Return of the King</td>\n",
       "      <td>2003</td>\n",
       "      <td>Peter Jackson</td>\n",
       "      <td>Elijah Wood, Viggo Mortensen, Ian McKellen, Or...</td>\n",
       "      <td>9.0</td>\n",
       "      <td>201</td>\n",
       "      <td>U</td>\n",
       "      <td>$377.85M</td>\n",
       "      <td>Action</td>\n",
       "      <td>Adventure,  Drama</td>\n",
       "    </tr>\n",
       "    <tr>\n",
       "      <th>3</th>\n",
       "      <td>Inception</td>\n",
       "      <td>2010</td>\n",
       "      <td>Christopher Nolan</td>\n",
       "      <td>Leonardo DiCaprio, Joseph Gordon-Levitt, Ellio...</td>\n",
       "      <td>8.8</td>\n",
       "      <td>148</td>\n",
       "      <td>UA</td>\n",
       "      <td>$292.58M</td>\n",
       "      <td>Action</td>\n",
       "      <td>Adventure,  Sci-Fi</td>\n",
       "    </tr>\n",
       "    <tr>\n",
       "      <th>4</th>\n",
       "      <td>The Lord of the Rings: The Two Towers</td>\n",
       "      <td>2002</td>\n",
       "      <td>Peter Jackson</td>\n",
       "      <td>Elijah Wood, Ian McKellen, Viggo Mortensen, Or...</td>\n",
       "      <td>8.8</td>\n",
       "      <td>179</td>\n",
       "      <td>UA</td>\n",
       "      <td>$342.55M</td>\n",
       "      <td>Action</td>\n",
       "      <td>Adventure,  Drama</td>\n",
       "    </tr>\n",
       "  </tbody>\n",
       "</table>\n",
       "</div>\n",
       "    <div class=\"colab-df-buttons\">\n",
       "\n",
       "  <div class=\"colab-df-container\">\n",
       "    <button class=\"colab-df-convert\" onclick=\"convertToInteractive('df-f93aa46a-e541-44df-b8b4-61bc3c7be90f')\"\n",
       "            title=\"Convert this dataframe to an interactive table.\"\n",
       "            style=\"display:none;\">\n",
       "\n",
       "  <svg xmlns=\"http://www.w3.org/2000/svg\" height=\"24px\" viewBox=\"0 -960 960 960\">\n",
       "    <path d=\"M120-120v-720h720v720H120Zm60-500h600v-160H180v160Zm220 220h160v-160H400v160Zm0 220h160v-160H400v160ZM180-400h160v-160H180v160Zm440 0h160v-160H620v160ZM180-180h160v-160H180v160Zm440 0h160v-160H620v160Z\"/>\n",
       "  </svg>\n",
       "    </button>\n",
       "\n",
       "  <style>\n",
       "    .colab-df-container {\n",
       "      display:flex;\n",
       "      gap: 12px;\n",
       "    }\n",
       "\n",
       "    .colab-df-convert {\n",
       "      background-color: #E8F0FE;\n",
       "      border: none;\n",
       "      border-radius: 50%;\n",
       "      cursor: pointer;\n",
       "      display: none;\n",
       "      fill: #1967D2;\n",
       "      height: 32px;\n",
       "      padding: 0 0 0 0;\n",
       "      width: 32px;\n",
       "    }\n",
       "\n",
       "    .colab-df-convert:hover {\n",
       "      background-color: #E2EBFA;\n",
       "      box-shadow: 0px 1px 2px rgba(60, 64, 67, 0.3), 0px 1px 3px 1px rgba(60, 64, 67, 0.15);\n",
       "      fill: #174EA6;\n",
       "    }\n",
       "\n",
       "    .colab-df-buttons div {\n",
       "      margin-bottom: 4px;\n",
       "    }\n",
       "\n",
       "    [theme=dark] .colab-df-convert {\n",
       "      background-color: #3B4455;\n",
       "      fill: #D2E3FC;\n",
       "    }\n",
       "\n",
       "    [theme=dark] .colab-df-convert:hover {\n",
       "      background-color: #434B5C;\n",
       "      box-shadow: 0px 1px 3px 1px rgba(0, 0, 0, 0.15);\n",
       "      filter: drop-shadow(0px 1px 2px rgba(0, 0, 0, 0.3));\n",
       "      fill: #FFFFFF;\n",
       "    }\n",
       "  </style>\n",
       "\n",
       "    <script>\n",
       "      const buttonEl =\n",
       "        document.querySelector('#df-f93aa46a-e541-44df-b8b4-61bc3c7be90f button.colab-df-convert');\n",
       "      buttonEl.style.display =\n",
       "        google.colab.kernel.accessAllowed ? 'block' : 'none';\n",
       "\n",
       "      async function convertToInteractive(key) {\n",
       "        const element = document.querySelector('#df-f93aa46a-e541-44df-b8b4-61bc3c7be90f');\n",
       "        const dataTable =\n",
       "          await google.colab.kernel.invokeFunction('convertToInteractive',\n",
       "                                                    [key], {});\n",
       "        if (!dataTable) return;\n",
       "\n",
       "        const docLinkHtml = 'Like what you see? Visit the ' +\n",
       "          '<a target=\"_blank\" href=https://colab.research.google.com/notebooks/data_table.ipynb>data table notebook</a>'\n",
       "          + ' to learn more about interactive tables.';\n",
       "        element.innerHTML = '';\n",
       "        dataTable['output_type'] = 'display_data';\n",
       "        await google.colab.output.renderOutput(dataTable, element);\n",
       "        const docLink = document.createElement('div');\n",
       "        docLink.innerHTML = docLinkHtml;\n",
       "        element.appendChild(docLink);\n",
       "      }\n",
       "    </script>\n",
       "  </div>\n",
       "\n",
       "\n",
       "<div id=\"df-72125dff-1d87-4400-b264-a62fd7c4a3f9\">\n",
       "  <button class=\"colab-df-quickchart\" onclick=\"quickchart('df-72125dff-1d87-4400-b264-a62fd7c4a3f9')\"\n",
       "            title=\"Suggest charts\"\n",
       "            style=\"display:none;\">\n",
       "\n",
       "<svg xmlns=\"http://www.w3.org/2000/svg\" height=\"24px\"viewBox=\"0 0 24 24\"\n",
       "     width=\"24px\">\n",
       "    <g>\n",
       "        <path d=\"M19 3H5c-1.1 0-2 .9-2 2v14c0 1.1.9 2 2 2h14c1.1 0 2-.9 2-2V5c0-1.1-.9-2-2-2zM9 17H7v-7h2v7zm4 0h-2V7h2v10zm4 0h-2v-4h2v4z\"/>\n",
       "    </g>\n",
       "</svg>\n",
       "  </button>\n",
       "\n",
       "<style>\n",
       "  .colab-df-quickchart {\n",
       "      --bg-color: #E8F0FE;\n",
       "      --fill-color: #1967D2;\n",
       "      --hover-bg-color: #E2EBFA;\n",
       "      --hover-fill-color: #174EA6;\n",
       "      --disabled-fill-color: #AAA;\n",
       "      --disabled-bg-color: #DDD;\n",
       "  }\n",
       "\n",
       "  [theme=dark] .colab-df-quickchart {\n",
       "      --bg-color: #3B4455;\n",
       "      --fill-color: #D2E3FC;\n",
       "      --hover-bg-color: #434B5C;\n",
       "      --hover-fill-color: #FFFFFF;\n",
       "      --disabled-bg-color: #3B4455;\n",
       "      --disabled-fill-color: #666;\n",
       "  }\n",
       "\n",
       "  .colab-df-quickchart {\n",
       "    background-color: var(--bg-color);\n",
       "    border: none;\n",
       "    border-radius: 50%;\n",
       "    cursor: pointer;\n",
       "    display: none;\n",
       "    fill: var(--fill-color);\n",
       "    height: 32px;\n",
       "    padding: 0;\n",
       "    width: 32px;\n",
       "  }\n",
       "\n",
       "  .colab-df-quickchart:hover {\n",
       "    background-color: var(--hover-bg-color);\n",
       "    box-shadow: 0 1px 2px rgba(60, 64, 67, 0.3), 0 1px 3px 1px rgba(60, 64, 67, 0.15);\n",
       "    fill: var(--button-hover-fill-color);\n",
       "  }\n",
       "\n",
       "  .colab-df-quickchart-complete:disabled,\n",
       "  .colab-df-quickchart-complete:disabled:hover {\n",
       "    background-color: var(--disabled-bg-color);\n",
       "    fill: var(--disabled-fill-color);\n",
       "    box-shadow: none;\n",
       "  }\n",
       "\n",
       "  .colab-df-spinner {\n",
       "    border: 2px solid var(--fill-color);\n",
       "    border-color: transparent;\n",
       "    border-bottom-color: var(--fill-color);\n",
       "    animation:\n",
       "      spin 1s steps(1) infinite;\n",
       "  }\n",
       "\n",
       "  @keyframes spin {\n",
       "    0% {\n",
       "      border-color: transparent;\n",
       "      border-bottom-color: var(--fill-color);\n",
       "      border-left-color: var(--fill-color);\n",
       "    }\n",
       "    20% {\n",
       "      border-color: transparent;\n",
       "      border-left-color: var(--fill-color);\n",
       "      border-top-color: var(--fill-color);\n",
       "    }\n",
       "    30% {\n",
       "      border-color: transparent;\n",
       "      border-left-color: var(--fill-color);\n",
       "      border-top-color: var(--fill-color);\n",
       "      border-right-color: var(--fill-color);\n",
       "    }\n",
       "    40% {\n",
       "      border-color: transparent;\n",
       "      border-right-color: var(--fill-color);\n",
       "      border-top-color: var(--fill-color);\n",
       "    }\n",
       "    60% {\n",
       "      border-color: transparent;\n",
       "      border-right-color: var(--fill-color);\n",
       "    }\n",
       "    80% {\n",
       "      border-color: transparent;\n",
       "      border-right-color: var(--fill-color);\n",
       "      border-bottom-color: var(--fill-color);\n",
       "    }\n",
       "    90% {\n",
       "      border-color: transparent;\n",
       "      border-bottom-color: var(--fill-color);\n",
       "    }\n",
       "  }\n",
       "</style>\n",
       "\n",
       "  <script>\n",
       "    async function quickchart(key) {\n",
       "      const quickchartButtonEl =\n",
       "        document.querySelector('#' + key + ' button');\n",
       "      quickchartButtonEl.disabled = true;  // To prevent multiple clicks.\n",
       "      quickchartButtonEl.classList.add('colab-df-spinner');\n",
       "      try {\n",
       "        const charts = await google.colab.kernel.invokeFunction(\n",
       "            'suggestCharts', [key], {});\n",
       "      } catch (error) {\n",
       "        console.error('Error during call to suggestCharts:', error);\n",
       "      }\n",
       "      quickchartButtonEl.classList.remove('colab-df-spinner');\n",
       "      quickchartButtonEl.classList.add('colab-df-quickchart-complete');\n",
       "    }\n",
       "    (() => {\n",
       "      let quickchartButtonEl =\n",
       "        document.querySelector('#df-72125dff-1d87-4400-b264-a62fd7c4a3f9 button');\n",
       "      quickchartButtonEl.style.display =\n",
       "        google.colab.kernel.accessAllowed ? 'block' : 'none';\n",
       "    })();\n",
       "  </script>\n",
       "</div>\n",
       "\n",
       "    </div>\n",
       "  </div>\n"
      ],
      "text/plain": [
       "                                     Movie_Title  Year           Director  \\\n",
       "0                                        Kantara  2022      Rishab Shetty   \n",
       "1                                The Dark Knight  2008  Christopher Nolan   \n",
       "2  The Lord of the Rings: The Return of the King  2003      Peter Jackson   \n",
       "3                                      Inception  2010  Christopher Nolan   \n",
       "4          The Lord of the Rings: The Two Towers  2002      Peter Jackson   \n",
       "\n",
       "                                              Actors  Rating  Runtime(Mins)  \\\n",
       "0  Rishab Shetty, Sapthami Gowda, Kishore Kumar G...     9.3            148   \n",
       "1  Christian Bale, Heath Ledger, Aaron Eckhart, M...     9.0            152   \n",
       "2  Elijah Wood, Viggo Mortensen, Ian McKellen, Or...     9.0            201   \n",
       "3  Leonardo DiCaprio, Joseph Gordon-Levitt, Ellio...     8.8            148   \n",
       "4  Elijah Wood, Ian McKellen, Viggo Mortensen, Or...     8.8            179   \n",
       "\n",
       "  Censor   Total_Gross main_genre           side_genre  \n",
       "0     UA  Gross Unkown     Action    Adventure,  Drama  \n",
       "1     UA      $534.86M     Action        Crime,  Drama  \n",
       "2      U      $377.85M     Action    Adventure,  Drama  \n",
       "3     UA      $292.58M     Action   Adventure,  Sci-Fi  \n",
       "4     UA      $342.55M     Action    Adventure,  Drama  "
      ]
     },
     "execution_count": 1,
     "metadata": {},
     "output_type": "execute_result"
    }
   ],
   "source": [
    "import pandas as pd\n",
    "import numpy as np\n",
    "\n",
    "data = pd.read_csv('/content/IMDb_All_Genres_etf_clean1.csv')\n",
    "data.head()"
   ]
  },
  {
   "cell_type": "code",
   "execution_count": 5,
   "metadata": {
    "colab": {
     "base_uri": "https://localhost:8080/"
    },
    "id": "AAXnc3oRLvtg",
    "outputId": "0debb019-70b4-46c0-f445-ba94f8d9d69d"
   },
   "outputs": [
    {
     "name": "stdout",
     "output_type": "stream",
     "text": [
      "\n",
      "Column as Series (Title):\n",
      "0                                          Kantara\n",
      "1                                  The Dark Knight\n",
      "2    The Lord of the Rings: The Return of the King\n",
      "3                                        Inception\n",
      "4            The Lord of the Rings: The Two Towers\n",
      "Name: Movie_Title, dtype: object\n"
     ]
    }
   ],
   "source": [
    "print(\"\\nColumn as Series (Title):\")\n",
    "print(data['Movie_Title'].head())\n"
   ]
  },
  {
   "cell_type": "code",
   "execution_count": 7,
   "metadata": {
    "colab": {
     "base_uri": "https://localhost:8080/"
    },
    "id": "1ijYmlMeVCsB",
    "outputId": "db1829d9-f067-45a3-a246-0829ca3992da"
   },
   "outputs": [
    {
     "name": "stdout",
     "output_type": "stream",
     "text": [
      "\n",
      "DataFrame with only a few columns:\n",
      "                                     Movie_Title  Year  Rating\n",
      "0                                        Kantara  2022     9.3\n",
      "1                                The Dark Knight  2008     9.0\n",
      "2  The Lord of the Rings: The Return of the King  2003     9.0\n",
      "3                                      Inception  2010     8.8\n",
      "4          The Lord of the Rings: The Two Towers  2002     8.8\n"
     ]
    }
   ],
   "source": [
    "print(\"\\nDataFrame with only a few columns:\")\n",
    "print(data[['Movie_Title', 'Year', 'Rating']].head())\n"
   ]
  },
  {
   "cell_type": "code",
   "execution_count": 9,
   "metadata": {
    "colab": {
     "base_uri": "https://localhost:8080/"
    },
    "id": "Hs-TDDVRV6C-",
    "outputId": "15535bee-07b2-4cfc-c24c-c170c9ca3792"
   },
   "outputs": [
    {
     "name": "stdout",
     "output_type": "stream",
     "text": [
      "\n",
      "First 5 rows using .head():\n",
      "                                     Movie_Title  Year           Director  \\\n",
      "0                                        Kantara  2022      Rishab Shetty   \n",
      "1                                The Dark Knight  2008  Christopher Nolan   \n",
      "2  The Lord of the Rings: The Return of the King  2003      Peter Jackson   \n",
      "3                                      Inception  2010  Christopher Nolan   \n",
      "4          The Lord of the Rings: The Two Towers  2002      Peter Jackson   \n",
      "\n",
      "                                              Actors  Rating  Runtime(Mins)  \\\n",
      "0  Rishab Shetty, Sapthami Gowda, Kishore Kumar G...     9.3            148   \n",
      "1  Christian Bale, Heath Ledger, Aaron Eckhart, M...     9.0            152   \n",
      "2  Elijah Wood, Viggo Mortensen, Ian McKellen, Or...     9.0            201   \n",
      "3  Leonardo DiCaprio, Joseph Gordon-Levitt, Ellio...     8.8            148   \n",
      "4  Elijah Wood, Ian McKellen, Viggo Mortensen, Or...     8.8            179   \n",
      "\n",
      "  Censor   Total_Gross main_genre           side_genre  \n",
      "0     UA  Gross Unkown     Action    Adventure,  Drama  \n",
      "1     UA      $534.86M     Action        Crime,  Drama  \n",
      "2      U      $377.85M     Action    Adventure,  Drama  \n",
      "3     UA      $292.58M     Action   Adventure,  Sci-Fi  \n",
      "4     UA      $342.55M     Action    Adventure,  Drama  \n"
     ]
    }
   ],
   "source": [
    "print(\"\\nFirst 5 rows using .head():\")\n",
    "print(data.head(5))\n"
   ]
  },
  {
   "cell_type": "code",
   "execution_count": 10,
   "metadata": {
    "colab": {
     "base_uri": "https://localhost:8080/"
    },
    "id": "AZ21QAs4WQQm",
    "outputId": "61112d3e-9ef4-42a9-eb4c-2ca1f8a37734"
   },
   "outputs": [
    {
     "name": "stdout",
     "output_type": "stream",
     "text": [
      "\n",
      "Selecting a column (Series) - 'Rating':\n",
      "0    9.3\n",
      "1    9.0\n",
      "2    9.0\n",
      "3    8.8\n",
      "4    8.8\n",
      "Name: Rating, dtype: float64\n"
     ]
    }
   ],
   "source": [
    "print(\"\\nSelecting a column (Series) - 'Rating':\")\n",
    "print(data['Rating'].head())\n"
   ]
  },
  {
   "cell_type": "code",
   "execution_count": 11,
   "metadata": {
    "colab": {
     "base_uri": "https://localhost:8080/"
    },
    "id": "BspTYdHBWWJv",
    "outputId": "c0196738-c8be-48a9-aeb1-0b8d9a1393e3"
   },
   "outputs": [
    {
     "name": "stdout",
     "output_type": "stream",
     "text": [
      "\n",
      "Selecting first row using .iloc:\n",
      "Movie_Title                                                Kantara\n",
      "Year                                                          2022\n",
      "Director                                             Rishab Shetty\n",
      "Actors           Rishab Shetty, Sapthami Gowda, Kishore Kumar G...\n",
      "Rating                                                         9.3\n",
      "Runtime(Mins)                                                  148\n",
      "Censor                                                          UA\n",
      "Total_Gross                                           Gross Unkown\n",
      "main_genre                                                  Action\n",
      "side_genre                                       Adventure,  Drama\n",
      "Name: 0, dtype: object\n"
     ]
    }
   ],
   "source": [
    "print(\"\\nSelecting first row using .iloc:\")\n",
    "print(data.iloc[0])\n"
   ]
  },
  {
   "cell_type": "code",
   "execution_count": 12,
   "metadata": {
    "colab": {
     "base_uri": "https://localhost:8080/"
    },
    "id": "LCeYVteqWivx",
    "outputId": "942378b9-2418-4810-f26a-7b1fb49cd6f1"
   },
   "outputs": [
    {
     "name": "stdout",
     "output_type": "stream",
     "text": [
      "\n",
      "Selecting specific value [Row 0, 'Title'] using .loc:\n",
      "Kantara\n"
     ]
    }
   ],
   "source": [
    "print(\"\\nSelecting specific value [Row 0, 'Title'] using .loc:\")\n",
    "print(data.loc[0, 'Movie_Title'])\n"
   ]
  },
  {
   "cell_type": "code",
   "execution_count": 13,
   "metadata": {
    "colab": {
     "base_uri": "https://localhost:8080/"
    },
    "id": "qFqJOSAtW3JV",
    "outputId": "2521ea1e-9a2b-4781-d3d6-97aad4270f53"
   },
   "outputs": [
    {
     "name": "stdout",
     "output_type": "stream",
     "text": [
      "\n",
      "Movies with Rating > 8:\n",
      "                                     Movie_Title  Year           Director  \\\n",
      "0                                        Kantara  2022      Rishab Shetty   \n",
      "1                                The Dark Knight  2008  Christopher Nolan   \n",
      "2  The Lord of the Rings: The Return of the King  2003      Peter Jackson   \n",
      "3                                      Inception  2010  Christopher Nolan   \n",
      "4          The Lord of the Rings: The Two Towers  2002      Peter Jackson   \n",
      "\n",
      "                                              Actors  Rating  Runtime(Mins)  \\\n",
      "0  Rishab Shetty, Sapthami Gowda, Kishore Kumar G...     9.3            148   \n",
      "1  Christian Bale, Heath Ledger, Aaron Eckhart, M...     9.0            152   \n",
      "2  Elijah Wood, Viggo Mortensen, Ian McKellen, Or...     9.0            201   \n",
      "3  Leonardo DiCaprio, Joseph Gordon-Levitt, Ellio...     8.8            148   \n",
      "4  Elijah Wood, Ian McKellen, Viggo Mortensen, Or...     8.8            179   \n",
      "\n",
      "  Censor   Total_Gross main_genre           side_genre  \n",
      "0     UA  Gross Unkown     Action    Adventure,  Drama  \n",
      "1     UA      $534.86M     Action        Crime,  Drama  \n",
      "2      U      $377.85M     Action    Adventure,  Drama  \n",
      "3     UA      $292.58M     Action   Adventure,  Sci-Fi  \n",
      "4     UA      $342.55M     Action    Adventure,  Drama  \n"
     ]
    }
   ],
   "source": [
    "print(\"\\nMovies with Rating > 8:\")\n",
    "print(data[data['Rating'] > 8].head())\n"
   ]
  },
  {
   "cell_type": "code",
   "execution_count": 16,
   "metadata": {
    "colab": {
     "base_uri": "https://localhost:8080/"
    },
    "id": "LyDBoTWbXD3P",
    "outputId": "3fb443e4-89f5-4ba7-c975-32fecb34d114"
   },
   "outputs": [
    {
     "name": "stdout",
     "output_type": "stream",
     "text": [
      "\n",
      "Movies of Genre 'Action':\n",
      "                                     Movie_Title  Year           Director  \\\n",
      "0                                        Kantara  2022      Rishab Shetty   \n",
      "1                                The Dark Knight  2008  Christopher Nolan   \n",
      "2  The Lord of the Rings: The Return of the King  2003      Peter Jackson   \n",
      "3                                      Inception  2010  Christopher Nolan   \n",
      "4          The Lord of the Rings: The Two Towers  2002      Peter Jackson   \n",
      "\n",
      "                                              Actors  Rating  Runtime(Mins)  \\\n",
      "0  Rishab Shetty, Sapthami Gowda, Kishore Kumar G...     9.3            148   \n",
      "1  Christian Bale, Heath Ledger, Aaron Eckhart, M...     9.0            152   \n",
      "2  Elijah Wood, Viggo Mortensen, Ian McKellen, Or...     9.0            201   \n",
      "3  Leonardo DiCaprio, Joseph Gordon-Levitt, Ellio...     8.8            148   \n",
      "4  Elijah Wood, Ian McKellen, Viggo Mortensen, Or...     8.8            179   \n",
      "\n",
      "  Censor   Total_Gross main_genre           side_genre  \n",
      "0     UA  Gross Unkown     Action    Adventure,  Drama  \n",
      "1     UA      $534.86M     Action        Crime,  Drama  \n",
      "2      U      $377.85M     Action    Adventure,  Drama  \n",
      "3     UA      $292.58M     Action   Adventure,  Sci-Fi  \n",
      "4     UA      $342.55M     Action    Adventure,  Drama  \n"
     ]
    }
   ],
   "source": [
    "print(\"\\nMovies of Genre 'Action':\")\n",
    "print(data[data['main_genre'] == 'Action'].head())\n"
   ]
  },
  {
   "cell_type": "code",
   "execution_count": 17,
   "metadata": {
    "colab": {
     "base_uri": "https://localhost:8080/"
    },
    "id": "k4-LoKepXUQ1",
    "outputId": "6ba32e56-3559-4b4e-9981-2ec26600db1f"
   },
   "outputs": [
    {
     "name": "stdout",
     "output_type": "stream",
     "text": [
      "\n",
      "Subset with rows 0-4 and columns 'Title', 'Rating':\n",
      "                                     Movie_Title  Rating\n",
      "0                                        Kantara     9.3\n",
      "1                                The Dark Knight     9.0\n",
      "2  The Lord of the Rings: The Return of the King     9.0\n",
      "3                                      Inception     8.8\n",
      "4          The Lord of the Rings: The Two Towers     8.8\n"
     ]
    }
   ],
   "source": [
    "print(\"\\nSubset with rows 0-4 and columns 'Title', 'Rating':\")\n",
    "print(data.loc[0:4, ['Movie_Title', 'Rating']])\n"
   ]
  },
  {
   "cell_type": "code",
   "execution_count": 18,
   "metadata": {
    "colab": {
     "base_uri": "https://localhost:8080/"
    },
    "id": "42Rx49PNXrDd",
    "outputId": "ed4607c8-ef45-46ff-e7eb-5022fc735599"
   },
   "outputs": [
    {
     "name": "stdout",
     "output_type": "stream",
     "text": [
      "\n",
      "Setting 'Title' as index:\n",
      "                                               Year           Director  \\\n",
      "Movie_Title                                                              \n",
      "Kantara                                        2022      Rishab Shetty   \n",
      "The Dark Knight                                2008  Christopher Nolan   \n",
      "The Lord of the Rings: The Return of the King  2003      Peter Jackson   \n",
      "Inception                                      2010  Christopher Nolan   \n",
      "The Lord of the Rings: The Two Towers          2002      Peter Jackson   \n",
      "\n",
      "                                                                                          Actors  \\\n",
      "Movie_Title                                                                                        \n",
      "Kantara                                        Rishab Shetty, Sapthami Gowda, Kishore Kumar G...   \n",
      "The Dark Knight                                Christian Bale, Heath Ledger, Aaron Eckhart, M...   \n",
      "The Lord of the Rings: The Return of the King  Elijah Wood, Viggo Mortensen, Ian McKellen, Or...   \n",
      "Inception                                      Leonardo DiCaprio, Joseph Gordon-Levitt, Ellio...   \n",
      "The Lord of the Rings: The Two Towers          Elijah Wood, Ian McKellen, Viggo Mortensen, Or...   \n",
      "\n",
      "                                               Rating  Runtime(Mins) Censor  \\\n",
      "Movie_Title                                                                   \n",
      "Kantara                                           9.3            148     UA   \n",
      "The Dark Knight                                   9.0            152     UA   \n",
      "The Lord of the Rings: The Return of the King     9.0            201      U   \n",
      "Inception                                         8.8            148     UA   \n",
      "The Lord of the Rings: The Two Towers             8.8            179     UA   \n",
      "\n",
      "                                                Total_Gross main_genre  \\\n",
      "Movie_Title                                                              \n",
      "Kantara                                        Gross Unkown     Action   \n",
      "The Dark Knight                                    $534.86M     Action   \n",
      "The Lord of the Rings: The Return of the King      $377.85M     Action   \n",
      "Inception                                          $292.58M     Action   \n",
      "The Lord of the Rings: The Two Towers              $342.55M     Action   \n",
      "\n",
      "                                                        side_genre  \n",
      "Movie_Title                                                         \n",
      "Kantara                                          Adventure,  Drama  \n",
      "The Dark Knight                                      Crime,  Drama  \n",
      "The Lord of the Rings: The Return of the King    Adventure,  Drama  \n",
      "Inception                                       Adventure,  Sci-Fi  \n",
      "The Lord of the Rings: The Two Towers            Adventure,  Drama  \n"
     ]
    }
   ],
   "source": [
    "print(\"\\nSetting 'Title' as index:\")\n",
    "data_indexed = data.set_index('Movie_Title')\n",
    "print(data_indexed.head())\n"
   ]
  },
  {
   "cell_type": "code",
   "execution_count": 19,
   "metadata": {
    "colab": {
     "base_uri": "https://localhost:8080/"
    },
    "id": "B34I4Nl-X-mK",
    "outputId": "06951fe9-23ca-4e33-a5d6-52e87ec3fe1e"
   },
   "outputs": [
    {
     "name": "stdout",
     "output_type": "stream",
     "text": [
      "\n",
      "Descriptive statistics:\n",
      "              Year       Rating  Runtime(Mins)\n",
      "count  5562.000000  5562.000000    5562.000000\n",
      "mean   2002.792521     6.755861     112.226717\n",
      "std      16.143990     0.937133      21.612655\n",
      "min    1920.000000     1.000000      45.000000\n",
      "25%    1997.000000     6.200000      97.000000\n",
      "50%    2007.000000     6.800000     108.000000\n",
      "75%    2014.000000     7.400000     123.000000\n",
      "max    2022.000000     9.300000     321.000000\n"
     ]
    }
   ],
   "source": [
    "print(\"\\nDescriptive statistics:\")\n",
    "print(data.describe())\n"
   ]
  },
  {
   "cell_type": "code",
   "execution_count": 20,
   "metadata": {
    "colab": {
     "base_uri": "https://localhost:8080/"
    },
    "id": "DcG1GziLYQSW",
    "outputId": "054755fe-5c92-4778-ae58-0a344fcb0e4b"
   },
   "outputs": [
    {
     "name": "stdout",
     "output_type": "stream",
     "text": [
      "\n",
      "Mean Rating:\n",
      "6.755861201006832\n"
     ]
    }
   ],
   "source": [
    "print(\"\\nMean Rating:\")\n",
    "print(data['Rating'].mean())\n"
   ]
  },
  {
   "cell_type": "code",
   "execution_count": 21,
   "metadata": {
    "colab": {
     "base_uri": "https://localhost:8080/"
    },
    "id": "0bZdQrINYZlG",
    "outputId": "3b1344b3-1c03-4141-d2d1-45f330d33684"
   },
   "outputs": [
    {
     "name": "stdout",
     "output_type": "stream",
     "text": [
      "\n",
      "Unique genres:\n",
      "['Action' 'Animation' 'Biography' 'Adventure' 'Western' 'Drama' 'Crime'\n",
      " 'Comedy' 'Horror' 'Mystery' 'Film-Noir' 'Fantasy' 'Musical']\n"
     ]
    }
   ],
   "source": [
    "print(\"\\nUnique genres:\")\n",
    "print(data['main_genre'].unique())\n"
   ]
  },
  {
   "cell_type": "code",
   "execution_count": 22,
   "metadata": {
    "colab": {
     "base_uri": "https://localhost:8080/"
    },
    "id": "yisQ3SI-YxEI",
    "outputId": "0439ec35-b7e7-4e45-82ee-3a0f1923f053"
   },
   "outputs": [
    {
     "name": "stdout",
     "output_type": "stream",
     "text": [
      "\n",
      "Genre value counts:\n",
      "main_genre\n",
      "Action       1577\n",
      "Comedy       1350\n",
      "Drama        1027\n",
      "Crime         447\n",
      "Biography     355\n",
      "Animation     321\n",
      "Adventure     296\n",
      "Horror        142\n",
      "Mystery        26\n",
      "Fantasy        13\n",
      "Western         4\n",
      "Film-Noir       3\n",
      "Musical         1\n",
      "Name: count, dtype: int64\n"
     ]
    }
   ],
   "source": [
    "print(\"\\nGenre value counts:\")\n",
    "print(data['main_genre'].value_counts())\n"
   ]
  },
  {
   "cell_type": "code",
   "execution_count": 27,
   "metadata": {
    "colab": {
     "base_uri": "https://localhost:8080/"
    },
    "id": "SFMFmgZIY9Xq",
    "outputId": "af370721-233c-438a-a617-6f135aee75a1"
   },
   "outputs": [
    {
     "name": "stdout",
     "output_type": "stream",
     "text": [
      "\n",
      "Applying custom function to categorize ratings:\n",
      "                                     Movie_Title  Rating Rating_Category\n",
      "0                                        Kantara     9.3       Excellent\n",
      "1                                The Dark Knight     9.0       Excellent\n",
      "2  The Lord of the Rings: The Return of the King     9.0       Excellent\n",
      "3                                      Inception     8.8       Excellent\n",
      "4          The Lord of the Rings: The Two Towers     8.8       Excellent\n"
     ]
    }
   ],
   "source": [
    "print(\"\\nApplying custom function to categorize ratings:\")\n",
    "data['Rating_Category'] = data['Rating'].apply(rating_category)\n",
    "print(data[['Movie_Title', 'Rating', 'Rating_Category']].head())\n",
    "\n"
   ]
  },
  {
   "cell_type": "code",
   "execution_count": 28,
   "metadata": {
    "colab": {
     "base_uri": "https://localhost:8080/"
    },
    "id": "kxgUob5oZmHH",
    "outputId": "dff26592-71a1-4aeb-c9b4-8f7601190d0c"
   },
   "outputs": [
    {
     "name": "stdout",
     "output_type": "stream",
     "text": [
      "\n",
      "Column Names:\n",
      "Index(['Movie_Title', 'Year', 'Director', 'Actors', 'Rating', 'Runtime(Mins)',\n",
      "       'Censor', 'Total_Gross', 'main_genre', 'side_genre', 'Rating_Category'],\n",
      "      dtype='object')\n",
      "\n",
      "Index:\n",
      "RangeIndex(start=0, stop=5562, step=1)\n"
     ]
    }
   ],
   "source": [
    "print(\"\\nColumn Names:\")\n",
    "print(data.columns)\n",
    "print(\"\\nIndex:\")\n",
    "print(data.index)\n"
   ]
  },
  {
   "cell_type": "code",
   "execution_count": 29,
   "metadata": {
    "colab": {
     "base_uri": "https://localhost:8080/"
    },
    "id": "iTirtEXIZyYT",
    "outputId": "022eaef0-bd4e-4ef8-e9fb-cd17471d6ae5"
   },
   "outputs": [
    {
     "name": "stdout",
     "output_type": "stream",
     "text": [
      "\n",
      "Checking for null values:\n",
      "Movie_Title        0\n",
      "Year               0\n",
      "Director           0\n",
      "Actors             0\n",
      "Rating             0\n",
      "Runtime(Mins)      0\n",
      "Censor             0\n",
      "Total_Gross        0\n",
      "main_genre         0\n",
      "side_genre         0\n",
      "Rating_Category    0\n",
      "dtype: int64\n"
     ]
    }
   ],
   "source": [
    "print(\"\\nChecking for null values:\")\n",
    "print(data.isnull().sum())\n"
   ]
  },
  {
   "cell_type": "code",
   "execution_count": 30,
   "metadata": {
    "colab": {
     "base_uri": "https://localhost:8080/"
    },
    "id": "VyTvjJRaZ2RS",
    "outputId": "3b90098d-7fce-4eba-e950-0b8578e37c91"
   },
   "outputs": [
    {
     "name": "stdout",
     "output_type": "stream",
     "text": [
      "\n",
      "Data sorted by Rating (descending):\n",
      "                   Movie_Title  Year                Director  \\\n",
      "0                      Kantara  2022           Rishab Shetty   \n",
      "3448  The Shawshank Redemption  1994          Frank Darabont   \n",
      "2253             The Godfather  1972    Francis Ford Coppola   \n",
      "3449            Hababam Sinifi  1975           Ertem Egilmez   \n",
      "2254                  Aynabaji  2016  Amitabh Reza Chowdhury   \n",
      "\n",
      "                                                 Actors  Rating  \\\n",
      "0     Rishab Shetty, Sapthami Gowda, Kishore Kumar G...     9.3   \n",
      "3448  Tim Robbins, Morgan Freeman, Bob Gunton, Willi...     9.3   \n",
      "2253  Marlon Brando, Al Pacino, James Caan, Diane Ke...     9.2   \n",
      "3449  Kemal Sunal, Münir Özkul, Halit Akçatepe, Tari...     9.2   \n",
      "2254  Chanchal Chowdhury, Masuma Rahman Nabila, Part...     9.0   \n",
      "\n",
      "      Runtime(Mins)     Censor   Total_Gross main_genre           side_genre  \\\n",
      "0               148         UA  Gross Unkown     Action    Adventure,  Drama   \n",
      "3448            142          A       $28.34M      Drama                Drama   \n",
      "2253            175          A      $134.97M      Crime                Drama   \n",
      "3449             87  Not Rated  Gross Unkown     Comedy                Drama   \n",
      "2254            147  Not Rated  Gross Unkown      Crime   Mystery,  Thriller   \n",
      "\n",
      "     Rating_Category  \n",
      "0          Excellent  \n",
      "3448       Excellent  \n",
      "2253       Excellent  \n",
      "3449       Excellent  \n",
      "2254       Excellent  \n"
     ]
    }
   ],
   "source": [
    "print(\"\\nData sorted by Rating (descending):\")\n",
    "print(data.sort_values(by='Rating', ascending=False).head())\n"
   ]
  },
  {
   "cell_type": "code",
   "execution_count": 31,
   "metadata": {
    "colab": {
     "base_uri": "https://localhost:8080/"
    },
    "id": "cX6vOVRPZ6s2",
    "outputId": "e57241ac-3c15-4c0f-982c-b417c38919a7"
   },
   "outputs": [
    {
     "name": "stdout",
     "output_type": "stream",
     "text": [
      "\n",
      "Checking for null values:\n",
      "Movie_Title        0\n",
      "Year               0\n",
      "Director           0\n",
      "Actors             0\n",
      "Rating             0\n",
      "Runtime(Mins)      0\n",
      "Censor             0\n",
      "Total_Gross        0\n",
      "main_genre         0\n",
      "side_genre         0\n",
      "Rating_Category    0\n",
      "dtype: int64\n"
     ]
    }
   ],
   "source": [
    "print(\"\\nChecking for null values:\")\n",
    "print(data.isnull().sum())\n"
   ]
  },
  {
   "cell_type": "code",
   "execution_count": 34,
   "metadata": {
    "colab": {
     "base_uri": "https://localhost:8080/"
    },
    "id": "dXpMKGiDaBOA",
    "outputId": "44de164c-9088-4d0b-d6dd-b282906dfb79"
   },
   "outputs": [
    {
     "name": "stdout",
     "output_type": "stream",
     "text": [
      "\n",
      "Replacing 'N/A' in 'Censor' column with 'Unrated' (if exists):\n",
      "Censor\n",
      "UA           1118\n",
      "A            1101\n",
      "U            1023\n",
      "R             926\n",
      "Not Rated     495\n",
      "PG-13         405\n",
      "18            136\n",
      "PG            120\n",
      "16             71\n",
      "13             53\n",
      "UA 16+         22\n",
      "15+            18\n",
      "7              17\n",
      "UA 13+         12\n",
      "G               9\n",
      "(Banned)        8\n",
      "UA 7+           7\n",
      "All             5\n",
      "12+             5\n",
      "Unrated         4\n",
      "U/A             2\n",
      "18+             2\n",
      "12              1\n",
      "M/PG            1\n",
      "NC-17           1\n",
      "Name: count, dtype: int64\n"
     ]
    }
   ],
   "source": [
    "print(\"\\nReplacing 'N/A' in 'Censor' column with 'Unrated' (if exists):\")\n",
    "if 'Censor' in data.columns:\n",
    "    data['Censor'] = data['Censor'].replace('N/A', 'Unrated')\n",
    "    print(data['Censor'].value_counts())\n"
   ]
  },
  {
   "cell_type": "code",
   "execution_count": 35,
   "metadata": {
    "colab": {
     "base_uri": "https://localhost:8080/"
    },
    "id": "LQrpu_ZnarbE",
    "outputId": "d1f79993-f3e5-4620-bc64-a6ba5b7d45fa"
   },
   "outputs": [
    {
     "name": "stdout",
     "output_type": "stream",
     "text": [
      "\n",
      "Dropping column 'Rating_Category':\n",
      "                                     Movie_Title  Year           Director  \\\n",
      "0                                        Kantara  2022      Rishab Shetty   \n",
      "1                                The Dark Knight  2008  Christopher Nolan   \n",
      "2  The Lord of the Rings: The Return of the King  2003      Peter Jackson   \n",
      "3                                      Inception  2010  Christopher Nolan   \n",
      "4          The Lord of the Rings: The Two Towers  2002      Peter Jackson   \n",
      "\n",
      "                                              Actors  Rating  Runtime(Mins)  \\\n",
      "0  Rishab Shetty, Sapthami Gowda, Kishore Kumar G...     9.3            148   \n",
      "1  Christian Bale, Heath Ledger, Aaron Eckhart, M...     9.0            152   \n",
      "2  Elijah Wood, Viggo Mortensen, Ian McKellen, Or...     9.0            201   \n",
      "3  Leonardo DiCaprio, Joseph Gordon-Levitt, Ellio...     8.8            148   \n",
      "4  Elijah Wood, Ian McKellen, Viggo Mortensen, Or...     8.8            179   \n",
      "\n",
      "  Censor   Total_Gross main_genre           side_genre  \n",
      "0     UA  Gross Unkown     Action    Adventure,  Drama  \n",
      "1     UA      $534.86M     Action        Crime,  Drama  \n",
      "2      U      $377.85M     Action    Adventure,  Drama  \n",
      "3     UA      $292.58M     Action   Adventure,  Sci-Fi  \n",
      "4     UA      $342.55M     Action    Adventure,  Drama  \n"
     ]
    }
   ],
   "source": [
    "print(\"\\nDropping column 'Rating_Category':\")\n",
    "data = data.drop('Rating_Category', axis=1)\n",
    "print(data.head())\n"
   ]
  },
  {
   "cell_type": "code",
   "execution_count": 36,
   "metadata": {
    "colab": {
     "base_uri": "https://localhost:8080/"
    },
    "id": "Aa2VM7yyax2H",
    "outputId": "d3f64974-128d-4af1-81af-2f8da667955f"
   },
   "outputs": [
    {
     "name": "stdout",
     "output_type": "stream",
     "text": [
      "\n",
      "Dropping rows with any null values:\n",
      "                                     Movie_Title  Year           Director  \\\n",
      "0                                        Kantara  2022      Rishab Shetty   \n",
      "1                                The Dark Knight  2008  Christopher Nolan   \n",
      "2  The Lord of the Rings: The Return of the King  2003      Peter Jackson   \n",
      "3                                      Inception  2010  Christopher Nolan   \n",
      "4          The Lord of the Rings: The Two Towers  2002      Peter Jackson   \n",
      "\n",
      "                                              Actors  Rating  Runtime(Mins)  \\\n",
      "0  Rishab Shetty, Sapthami Gowda, Kishore Kumar G...     9.3            148   \n",
      "1  Christian Bale, Heath Ledger, Aaron Eckhart, M...     9.0            152   \n",
      "2  Elijah Wood, Viggo Mortensen, Ian McKellen, Or...     9.0            201   \n",
      "3  Leonardo DiCaprio, Joseph Gordon-Levitt, Ellio...     8.8            148   \n",
      "4  Elijah Wood, Ian McKellen, Viggo Mortensen, Or...     8.8            179   \n",
      "\n",
      "  Censor   Total_Gross main_genre           side_genre  \n",
      "0     UA  Gross Unkown     Action    Adventure,  Drama  \n",
      "1     UA      $534.86M     Action        Crime,  Drama  \n",
      "2      U      $377.85M     Action    Adventure,  Drama  \n",
      "3     UA      $292.58M     Action   Adventure,  Sci-Fi  \n",
      "4     UA      $342.55M     Action    Adventure,  Drama  \n"
     ]
    }
   ],
   "source": [
    "print(\"\\nDropping rows with any null values:\")\n",
    "data_dropped = data.dropna()\n",
    "print(data_dropped.head())\n"
   ]
  }
 ],
 "metadata": {
  "colab": {
   "provenance": []
  },
  "kernelspec": {
   "display_name": "Python 3",
   "name": "python3"
  },
  "language_info": {
   "name": "python"
  }
 },
 "nbformat": 4,
 "nbformat_minor": 0
}
